{
 "cells": [
  {
   "cell_type": "markdown",
   "id": "9fd70ba0-3602-49cb-91d9-45fad34fa50e",
   "metadata": {},
   "source": [
    "# BÚSQUEDA DE PATRONES\n",
    "\n",
    "Para ejecutar bien esto es necesario introducir en la carpeta compartida de nuestra máquina los siguientes archivos:\n",
    "1. poema.txt\n",
    "2. grades.txt\n",
    "3. students.txt\n",
    "4. ¡Este Notebook!\n",
    "\n",
    "### grep"
   ]
  },
  {
   "cell_type": "code",
   "execution_count": null,
   "id": "18a0367b-ab55-4b75-93a7-c4d2dc5934dd",
   "metadata": {},
   "outputs": [],
   "source": [
    "grep --version"
   ]
  },
  {
   "cell_type": "code",
   "execution_count": null,
   "id": "2ac4cace-2aae-4d90-a4f8-6e5137ed5b71",
   "metadata": {},
   "outputs": [],
   "source": [
    "grep --help"
   ]
  },
  {
   "cell_type": "code",
   "execution_count": null,
   "id": "9b7e4928-9517-4234-ad27-d243a9459691",
   "metadata": {},
   "outputs": [],
   "source": [
    "ls"
   ]
  },
  {
   "cell_type": "code",
   "execution_count": null,
   "id": "ecf409e1-dc94-4dec-aec7-7d12df73e0ac",
   "metadata": {},
   "outputs": [],
   "source": [
    "# Encontrar la palabra computadora sin diferenciar mayúsculas de minúsculas y guardarlo en un archivo\n",
    "grep -i \"computadora\" poema.txt > mi_primera_regex.txt"
   ]
  },
  {
   "cell_type": "code",
   "execution_count": null,
   "id": "1a83dd12-4877-4fc3-85f0-37dd8367896a",
   "metadata": {},
   "outputs": [],
   "source": [
    "# ¿Qué pasa si hago esto?\n",
    "grep -i -E -v \"computadora|Roberto\" poema.txt"
   ]
  },
  {
   "cell_type": "code",
   "execution_count": null,
   "id": "a8ad607d-d2a0-4f55-a491-c12f6adbca34",
   "metadata": {},
   "outputs": [],
   "source": [
    "# ¿Qué pasa si quito y pongo el -E?\n",
    "grep -E \"a|e\" poema.txt"
   ]
  },
  {
   "cell_type": "code",
   "execution_count": null,
   "id": "eab88732-7956-4425-bdca-312f73cbd470",
   "metadata": {},
   "outputs": [],
   "source": [
    "# ¿Para qué sirve -w?\n",
    "grep -w \"se\" poema.txt"
   ]
  },
  {
   "cell_type": "code",
   "execution_count": null,
   "id": "755d2926-61cd-4b7c-8923-69c60db0b14a",
   "metadata": {},
   "outputs": [],
   "source": [
    "#¿Qué pasa aquí?\n",
    "grep -E -c \"^.*$\" poema.txt"
   ]
  },
  {
   "cell_type": "code",
   "execution_count": null,
   "id": "6069929b-39cb-4440-8a1f-13059dcfd790",
   "metadata": {},
   "outputs": [],
   "source": [
    "grep -c \"?\" poema.txt"
   ]
  },
  {
   "cell_type": "markdown",
   "id": "fb1766f6-ec31-49ae-85c7-995bd3316a8b",
   "metadata": {},
   "source": [
    "### Sed"
   ]
  },
  {
   "cell_type": "code",
   "execution_count": null,
   "id": "f75f63ea-c37b-4f10-b12d-612ee0bad638",
   "metadata": {},
   "outputs": [],
   "source": [
    "# Reemplazar las o por O en todo el texto\n",
    "sed 's/o/O/g' <poema.txt >poemaO.txt"
   ]
  },
  {
   "cell_type": "code",
   "execution_count": null,
   "id": "2cda9545-8dd5-43a1-a004-f36f0840c874",
   "metadata": {},
   "outputs": [],
   "source": [
    "# No es necesario que sea archivo de texto\n",
    "echo \"que es esto\" | sed 's/q/Q/'"
   ]
  },
  {
   "cell_type": "code",
   "execution_count": null,
   "id": "4a4fd167-4293-48a5-9c23-1729b536d927",
   "metadata": {},
   "outputs": [],
   "source": [
    "# Podemos sobreescribir el contenido de un fichero sin generar otro\n",
    "sed -i 's/t/T/g' poemaO.txt"
   ]
  },
  {
   "cell_type": "code",
   "execution_count": null,
   "id": "ab694438-fa73-463c-b400-c33516c243df",
   "metadata": {},
   "outputs": [],
   "source": [
    "# Podemos reemplezar algo en las líneas con un patrón\n",
    "sed -i '/rapero/s/f/F/g' poemaO.txt"
   ]
  },
  {
   "cell_type": "code",
   "execution_count": null,
   "id": "f1703afb-4d8e-45b6-b527-48e2b8af8bf5",
   "metadata": {},
   "outputs": [],
   "source": [
    "# Podemos reemplazar solo en determinadas líneas\n",
    "sed -i '9,27 s/Que/Como/g' poemaO.txt"
   ]
  },
  {
   "cell_type": "code",
   "execution_count": null,
   "id": "bfc077c4-9019-4e82-a202-06f9d854350f",
   "metadata": {},
   "outputs": [],
   "source": [
    "# Encadenar sustituciones\n",
    "sed -e 's/u/U/g' -e 's/r/R/g' poemaO.txt "
   ]
  },
  {
   "cell_type": "markdown",
   "id": "5d5f61d6-1823-4c38-a17e-7764e28802bb",
   "metadata": {},
   "source": [
    "### Cut"
   ]
  },
  {
   "cell_type": "code",
   "execution_count": null,
   "id": "261c0c38-f8ef-4717-b80e-3232300267ba",
   "metadata": {},
   "outputs": [],
   "source": [
    "cut --version"
   ]
  },
  {
   "cell_type": "code",
   "execution_count": null,
   "id": "56a2de4d-a27c-4726-b5dd-b9fa9b59d817",
   "metadata": {},
   "outputs": [],
   "source": [
    "# Ahora vamos a unir dos archivos\n",
    "paste students.txt grades.txt > notas_final.txt"
   ]
  },
  {
   "cell_type": "code",
   "execution_count": null,
   "id": "850d8b4b-858c-49f4-9aef-4270e56c3a08",
   "metadata": {},
   "outputs": [],
   "source": [
    "# Con cut podemos mostrar solo una columna\n",
    "cut -f 1 notas_final.txt"
   ]
  },
  {
   "cell_type": "code",
   "execution_count": null,
   "id": "6afa678b-e7cc-43a2-bd8c-66ac3c8e80e3",
   "metadata": {},
   "outputs": [],
   "source": [
    "#cut -f 1 -d \",\" archivo #Esto en caso de que hubiese algun separador en la columna\n",
    "#cut -f 1-2 notas_final.txt"
   ]
  },
  {
   "cell_type": "markdown",
   "id": "dd9540ce-f318-4205-aff3-3f9291b52f69",
   "metadata": {},
   "source": [
    "### Sort"
   ]
  },
  {
   "cell_type": "code",
   "execution_count": null,
   "id": "a83df806-2918-49bc-897a-3e4f4252a3c5",
   "metadata": {},
   "outputs": [],
   "source": [
    "sort --version"
   ]
  },
  {
   "cell_type": "code",
   "execution_count": null,
   "id": "79f27c98-aaa1-4257-932f-7eed05471b86",
   "metadata": {},
   "outputs": [],
   "source": [
    "sort students.txt  #si queremos especificar por columna usamos -k"
   ]
  },
  {
   "cell_type": "code",
   "execution_count": null,
   "id": "3ddbc780-7dbb-4eea-a754-1504648ed57e",
   "metadata": {},
   "outputs": [],
   "source": [
    "# -g elimina los duplicados ej: sort -g -k 2 archivo.txt"
   ]
  }
 ],
 "metadata": {
  "kernelspec": {
   "display_name": "Python 3 (ipykernel)",
   "language": "python",
   "name": "python3"
  },
  "language_info": {
   "codemirror_mode": {
    "name": "ipython",
    "version": 3
   },
   "file_extension": ".py",
   "mimetype": "text/x-python",
   "name": "python",
   "nbconvert_exporter": "python",
   "pygments_lexer": "ipython3",
   "version": "3.11.4"
  }
 },
 "nbformat": 4,
 "nbformat_minor": 5
}
